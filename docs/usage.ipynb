{
 "cells": [
  {
   "cell_type": "markdown",
   "source": [
    "# IANA TopLevelDomain Scraper\n",
    "Extracting top-level-domain information from Internet Assigned Numbers Authority (IANA) website.\n",
    "\n",
    "## List of all TopLevelDomains"
   ],
   "metadata": {
    "collapsed": false
   }
  },
  {
   "cell_type": "code",
   "execution_count": 1,
   "metadata": {
    "collapsed": true,
    "pycharm": {
     "is_executing": false
    }
   },
   "outputs": [
    {
     "name": "stdout",
     "text": [
      "[<TLD: aaa>, <TLD: aarp>, <TLD: abarth>, <TLD: abb>, <TLD: abbott>]\n"
     ],
     "output_type": "stream"
    }
   ],
   "source": [
    "from pprint import pprint\n",
    "from iana.tlds import Tld\n",
    "tlds = Tld.get_all()\n",
    "pprint(tlds[0:5])"
   ]
  },
  {
   "cell_type": "markdown",
   "source": [
    "## TLD Object"
   ],
   "metadata": {
    "collapsed": false
   }
  },
  {
   "cell_type": "code",
   "execution_count": 2,
   "outputs": [
    {
     "name": "stdout",
     "text": [
      "{'description': 'American Automobile Association, Inc.',\n",
      " 'idna': 'aaa',\n",
      " 'last_update': None,\n",
      " 'name': 'aaa',\n",
      " 'nameservers': [],\n",
      " 'registration': None,\n",
      " 'type': 'generic'}\n"
     ],
     "output_type": "stream"
    }
   ],
   "source": [
    "pprint(vars(tlds[0]))"
   ],
   "metadata": {
    "collapsed": false,
    "pycharm": {
     "name": "#%%\n",
     "is_executing": false
    }
   }
  },
  {
   "cell_type": "markdown",
   "source": [
    "## Fetch details (e.g. nameserver, registration) for TLD object"
   ],
   "metadata": {
    "collapsed": false,
    "pycharm": {
     "name": "#%% md\n"
    }
   }
  },
  {
   "cell_type": "code",
   "execution_count": 3,
   "outputs": [
    {
     "name": "stdout",
     "text": [
      "{'description': 'American Automobile Association, Inc.',\n",
      " 'idna': 'aaa',\n",
      " 'last_update': datetime.date(2019, 6, 27),\n",
      " 'name': 'aaa',\n",
      " 'nameservers': [('ns6.dns.nic.aaa', '156.154.158.2\\n2610:a1:1076:0:0:0:0:2'),\n",
      "                 ('ns4.dns.nic.aaa', '156.154.156.2\\n2610:a1:1074:0:0:0:0:2'),\n",
      "                 ('ns2.dns.nic.aaa', '156.154.145.2\\n2610:a1:1072:0:0:0:0:2'),\n",
      "                 ('ns3.dns.nic.aaa', '156.154.159.2\\n2610:a1:1073:0:0:0:0:2'),\n",
      "                 ('ns1.dns.nic.aaa', '156.154.144.2\\n2610:a1:1071:0:0:0:0:2'),\n",
      "                 ('ns5.dns.nic.aaa', '156.154.157.2\\n2610:a1:1075:0:0:0:0:2')],\n",
      " 'registration': datetime.date(2015, 8, 13),\n",
      " 'type': 'generic'}\n"
     ],
     "output_type": "stream"
    }
   ],
   "source": [
    "tlds[0].details()\n",
    "pprint(vars(tlds[0]))"
   ],
   "metadata": {
    "collapsed": false,
    "pycharm": {
     "name": "#%%\n",
     "is_executing": false
    }
   }
  }
 ],
 "metadata": {
  "kernelspec": {
   "display_name": "Python 3",
   "language": "python",
   "name": "python3"
  },
  "language_info": {
   "codemirror_mode": {
    "name": "ipython",
    "version": 2
   },
   "file_extension": ".py",
   "mimetype": "text/x-python",
   "name": "python",
   "nbconvert_exporter": "python",
   "pygments_lexer": "ipython2",
   "version": "2.7.6"
  },
  "pycharm": {
   "stem_cell": {
    "cell_type": "raw",
    "source": [
     "\n"
    ],
    "metadata": {
     "collapsed": false
    }
   }
  }
 },
 "nbformat": 4,
 "nbformat_minor": 0
}